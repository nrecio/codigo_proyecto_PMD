{
 "cells": [
  {
   "cell_type": "code",
   "execution_count": 1,
   "metadata": {},
   "outputs": [],
   "source": [
    "import pandas as pd\n",
    "import re\n",
    "import matplotlib\n",
    "from matplotlib import pyplot as plt\n",
    "import statistics as st"
   ]
  },
  {
   "cell_type": "code",
   "execution_count": 2,
   "metadata": {},
   "outputs": [],
   "source": [
    "data = pd.read_csv(\"url_info.csv\")"
   ]
  },
  {
   "cell_type": "code",
   "execution_count": 3,
   "metadata": {},
   "outputs": [
    {
     "data": {
      "text/html": [
       "<div>\n",
       "<style scoped>\n",
       "    .dataframe tbody tr th:only-of-type {\n",
       "        vertical-align: middle;\n",
       "    }\n",
       "\n",
       "    .dataframe tbody tr th {\n",
       "        vertical-align: top;\n",
       "    }\n",
       "\n",
       "    .dataframe thead th {\n",
       "        text-align: right;\n",
       "    }\n",
       "</style>\n",
       "<table border=\"1\" class=\"dataframe\">\n",
       "  <thead>\n",
       "    <tr style=\"text-align: right;\">\n",
       "      <th></th>\n",
       "      <th>covid</th>\n",
       "      <th>cardiopatia+isquemica</th>\n",
       "      <th>accidente+cerebrovascular</th>\n",
       "      <th>enfermedad+pulmonar+obstructica+cronica</th>\n",
       "      <th>infecciones+vias+respiratorias+inferiores</th>\n",
       "      <th>afecciones+neonatales</th>\n",
       "      <th>cancer+traquea</th>\n",
       "      <th>cancer+bronquios</th>\n",
       "      <th>cancer+pulmon</th>\n",
       "      <th>alzheimer</th>\n",
       "      <th>enfermedad+diarreica</th>\n",
       "      <th>diabetes+melitus</th>\n",
       "      <th>nefropatia</th>\n",
       "    </tr>\n",
       "  </thead>\n",
       "  <tbody>\n",
       "    <tr>\n",
       "      <th>0</th>\n",
       "      <td>Aproximadamente 6.990.000.000 resultados (0,79...</td>\n",
       "      <td>Aproximadamente 102.000 resultados (0,58 segun...</td>\n",
       "      <td>Aproximadamente 4.360.000 resultados (0,40 seg...</td>\n",
       "      <td>Aproximadamente 185.000 resultados (0,44 segun...</td>\n",
       "      <td>Aproximadamente 405.000 resultados (0,53 segun...</td>\n",
       "      <td>Aproximadamente 11.200.000 resultados (0,29 se...</td>\n",
       "      <td>Aproximadamente 200.000 resultados (0,38 segun...</td>\n",
       "      <td>Aproximadamente 155.000 resultados (0,60 segun...</td>\n",
       "      <td>Aproximadamente 1.010.000 resultados (0,44 seg...</td>\n",
       "      <td>Aproximadamente 93.000.000 resultados (0,54 se...</td>\n",
       "      <td>Aproximadamente 261.000 resultados (0,57 segun...</td>\n",
       "      <td>Aproximadamente 44.800.000 resultados (0,76 se...</td>\n",
       "      <td>Aproximadamente 770.000 resultados (0,47 segun...</td>\n",
       "    </tr>\n",
       "  </tbody>\n",
       "</table>\n",
       "</div>"
      ],
      "text/plain": [
       "                                               covid  \\\n",
       "0  Aproximadamente 6.990.000.000 resultados (0,79...   \n",
       "\n",
       "                               cardiopatia+isquemica  \\\n",
       "0  Aproximadamente 102.000 resultados (0,58 segun...   \n",
       "\n",
       "                           accidente+cerebrovascular  \\\n",
       "0  Aproximadamente 4.360.000 resultados (0,40 seg...   \n",
       "\n",
       "             enfermedad+pulmonar+obstructica+cronica  \\\n",
       "0  Aproximadamente 185.000 resultados (0,44 segun...   \n",
       "\n",
       "           infecciones+vias+respiratorias+inferiores  \\\n",
       "0  Aproximadamente 405.000 resultados (0,53 segun...   \n",
       "\n",
       "                               afecciones+neonatales  \\\n",
       "0  Aproximadamente 11.200.000 resultados (0,29 se...   \n",
       "\n",
       "                                      cancer+traquea  \\\n",
       "0  Aproximadamente 200.000 resultados (0,38 segun...   \n",
       "\n",
       "                                    cancer+bronquios  \\\n",
       "0  Aproximadamente 155.000 resultados (0,60 segun...   \n",
       "\n",
       "                                       cancer+pulmon  \\\n",
       "0  Aproximadamente 1.010.000 resultados (0,44 seg...   \n",
       "\n",
       "                                           alzheimer  \\\n",
       "0  Aproximadamente 93.000.000 resultados (0,54 se...   \n",
       "\n",
       "                                enfermedad+diarreica  \\\n",
       "0  Aproximadamente 261.000 resultados (0,57 segun...   \n",
       "\n",
       "                                    diabetes+melitus  \\\n",
       "0  Aproximadamente 44.800.000 resultados (0,76 se...   \n",
       "\n",
       "                                          nefropatia  \n",
       "0  Aproximadamente 770.000 resultados (0,47 segun...  "
      ]
     },
     "execution_count": 3,
     "metadata": {},
     "output_type": "execute_result"
    }
   ],
   "source": [
    "data.head()"
   ]
  },
  {
   "cell_type": "code",
   "execution_count": 4,
   "metadata": {},
   "outputs": [],
   "source": [
    "covid = data[\"covid\"][0].replace('.','')"
   ]
  },
  {
   "cell_type": "code",
   "execution_count": 5,
   "metadata": {},
   "outputs": [],
   "source": [
    "results_list = []\n",
    "for disease in data:\n",
    "    results_list.append(int(re.findall(r'\\d+', data[disease][0].replace('.',''))[0]))\n",
    "    "
   ]
  },
  {
   "cell_type": "code",
   "execution_count": 6,
   "metadata": {},
   "outputs": [
    {
     "data": {
      "text/plain": [
       "[6990000000,\n",
       " 102000,\n",
       " 4360000,\n",
       " 185000,\n",
       " 405000,\n",
       " 11200000,\n",
       " 200000,\n",
       " 155000,\n",
       " 1010000,\n",
       " 93000000,\n",
       " 261000,\n",
       " 44800000,\n",
       " 770000]"
      ]
     },
     "execution_count": 6,
     "metadata": {},
     "output_type": "execute_result"
    }
   ],
   "source": [
    "results_list"
   ]
  },
  {
   "cell_type": "code",
   "execution_count": 7,
   "metadata": {},
   "outputs": [],
   "source": [
    "col_name = list(data.columns)\n",
    "name = []\n",
    "for e in col_name:\n",
    "    name.append(e.replace('+',' '))"
   ]
  },
  {
   "cell_type": "code",
   "execution_count": 8,
   "metadata": {},
   "outputs": [
    {
     "data": {
      "text/plain": [
       "['covid',\n",
       " 'cardiopatia isquemica',\n",
       " 'accidente cerebrovascular',\n",
       " 'enfermedad pulmonar obstructica cronica',\n",
       " 'infecciones vias respiratorias inferiores',\n",
       " 'afecciones neonatales',\n",
       " 'cancer traquea',\n",
       " 'cancer bronquios',\n",
       " 'cancer pulmon',\n",
       " 'alzheimer',\n",
       " 'enfermedad diarreica',\n",
       " 'diabetes melitus',\n",
       " 'nefropatia']"
      ]
     },
     "execution_count": 8,
     "metadata": {},
     "output_type": "execute_result"
    }
   ],
   "source": [
    "name"
   ]
  },
  {
   "cell_type": "code",
   "execution_count": 9,
   "metadata": {},
   "outputs": [
    {
     "data": {
      "text/html": [
       "<div>\n",
       "<style scoped>\n",
       "    .dataframe tbody tr th:only-of-type {\n",
       "        vertical-align: middle;\n",
       "    }\n",
       "\n",
       "    .dataframe tbody tr th {\n",
       "        vertical-align: top;\n",
       "    }\n",
       "\n",
       "    .dataframe thead th {\n",
       "        text-align: right;\n",
       "    }\n",
       "</style>\n",
       "<table border=\"1\" class=\"dataframe\">\n",
       "  <thead>\n",
       "    <tr style=\"text-align: right;\">\n",
       "      <th></th>\n",
       "      <th>disease</th>\n",
       "      <th>results</th>\n",
       "    </tr>\n",
       "  </thead>\n",
       "  <tbody>\n",
       "    <tr>\n",
       "      <th>0</th>\n",
       "      <td>covid</td>\n",
       "      <td>6990000000</td>\n",
       "    </tr>\n",
       "    <tr>\n",
       "      <th>1</th>\n",
       "      <td>cardiopatia isquemica</td>\n",
       "      <td>102000</td>\n",
       "    </tr>\n",
       "    <tr>\n",
       "      <th>2</th>\n",
       "      <td>accidente cerebrovascular</td>\n",
       "      <td>4360000</td>\n",
       "    </tr>\n",
       "    <tr>\n",
       "      <th>3</th>\n",
       "      <td>enfermedad pulmonar obstructica cronica</td>\n",
       "      <td>185000</td>\n",
       "    </tr>\n",
       "    <tr>\n",
       "      <th>4</th>\n",
       "      <td>infecciones vias respiratorias inferiores</td>\n",
       "      <td>405000</td>\n",
       "    </tr>\n",
       "    <tr>\n",
       "      <th>5</th>\n",
       "      <td>afecciones neonatales</td>\n",
       "      <td>11200000</td>\n",
       "    </tr>\n",
       "    <tr>\n",
       "      <th>6</th>\n",
       "      <td>cancer traquea</td>\n",
       "      <td>200000</td>\n",
       "    </tr>\n",
       "    <tr>\n",
       "      <th>7</th>\n",
       "      <td>cancer bronquios</td>\n",
       "      <td>155000</td>\n",
       "    </tr>\n",
       "    <tr>\n",
       "      <th>8</th>\n",
       "      <td>cancer pulmon</td>\n",
       "      <td>1010000</td>\n",
       "    </tr>\n",
       "    <tr>\n",
       "      <th>9</th>\n",
       "      <td>alzheimer</td>\n",
       "      <td>93000000</td>\n",
       "    </tr>\n",
       "    <tr>\n",
       "      <th>10</th>\n",
       "      <td>enfermedad diarreica</td>\n",
       "      <td>261000</td>\n",
       "    </tr>\n",
       "    <tr>\n",
       "      <th>11</th>\n",
       "      <td>diabetes melitus</td>\n",
       "      <td>44800000</td>\n",
       "    </tr>\n",
       "    <tr>\n",
       "      <th>12</th>\n",
       "      <td>nefropatia</td>\n",
       "      <td>770000</td>\n",
       "    </tr>\n",
       "  </tbody>\n",
       "</table>\n",
       "</div>"
      ],
      "text/plain": [
       "                                      disease     results\n",
       "0                                       covid  6990000000\n",
       "1                       cardiopatia isquemica      102000\n",
       "2                   accidente cerebrovascular     4360000\n",
       "3     enfermedad pulmonar obstructica cronica      185000\n",
       "4   infecciones vias respiratorias inferiores      405000\n",
       "5                       afecciones neonatales    11200000\n",
       "6                              cancer traquea      200000\n",
       "7                            cancer bronquios      155000\n",
       "8                               cancer pulmon     1010000\n",
       "9                                   alzheimer    93000000\n",
       "10                       enfermedad diarreica      261000\n",
       "11                           diabetes melitus    44800000\n",
       "12                                 nefropatia      770000"
      ]
     },
     "execution_count": 9,
     "metadata": {},
     "output_type": "execute_result"
    }
   ],
   "source": [
    "data_1 = pd.DataFrame({'disease': [name[0],name[1],name[2],name[3],name[4],name[5],name[6],name[7],name[8],name[9],name[10],name[11],name[12]],\n",
    "                       'results': [results_list[0],results_list[1],results_list[2],results_list[3],results_list[4],results_list[5],results_list[6],results_list[7],results_list[8],results_list[9],results_list[10],results_list[11],results_list[12]]\n",
    "                    }) \n",
    "\n",
    "data_1"
   ]
  },
  {
   "cell_type": "code",
   "execution_count": 10,
   "metadata": {},
   "outputs": [],
   "source": [
    "#Necesario normalizar para poder hacer un gráfico comparativo\n",
    "data_1['results'] = abs((data_1['results']-data_1['results'].mean())/(data_1['results'].std()))"
   ]
  },
  {
   "cell_type": "code",
   "execution_count": 11,
   "metadata": {},
   "outputs": [
    {
     "data": {
      "image/png": "[encoded data removed]",
      "text/plain": [
       "<Figure size 1440x432 with 1 Axes>"
      ]
     },
     "metadata": {
      "needs_background": "light"
     },
     "output_type": "display_data"
    }
   ],
   "source": [
    "df = data_1\n",
    "ax = df.plot.bar(x='disease', y='results', rot=90, figsize=(20,6), color='purple');"
   ]
  }
 ],
 "metadata": {
  "kernelspec": {
   "display_name": "Python 3",
   "language": "python",
   "name": "python3"
  },
  "language_info": {
   "codemirror_mode": {
    "name": "ipython",
    "version": 3
   },
   "file_extension": ".py",
   "mimetype": "text/x-python",
   "name": "python",
   "nbconvert_exporter": "python",
   "pygments_lexer": "ipython3",
   "version": "3.8.5"
  }
 },
 "nbformat": 4,
 "nbformat_minor": 5
}
